{
 "cells": [
  {
   "cell_type": "code",
   "execution_count": 1,
   "metadata": {},
   "outputs": [],
   "source": [
    "#CIFAR\n",
    "import torch\n",
    "import torch.nn as nn\n",
    "import torch.nn.functional as f\n",
    "from torch.utils.data import DataLoader\n",
    "from torchvision import datasets, transforms\n",
    "import matplotlib.pyplot as plt\n",
    "import torch\n",
    "import torchvision\n",
    "import torchvision.transforms as transforms\n",
    "import sys\n",
    "import numpy as np\n",
    "import torch.nn as nn\n",
    "%matplotlib inline"
   ]
  },
  {
   "cell_type": "code",
   "execution_count": 2,
   "metadata": {},
   "outputs": [
    {
     "name": "stdout",
     "output_type": "stream",
     "text": [
      "3.7.6 (default, Jan  8 2020, 20:23:39) [MSC v.1916 64 bit (AMD64)]\n",
      "GeForce GTX 1660\n"
     ]
    }
   ],
   "source": [
    "print(sys.version)\n",
    "print(torch.cuda.get_device_name(0))"
   ]
  },
  {
   "cell_type": "code",
   "execution_count": 3,
   "metadata": {},
   "outputs": [],
   "source": [
    "def data_loader(batch_size):\n",
    "    transform = transforms.Compose(\n",
    "        [transforms.ToTensor(),\n",
    "         transforms.Normalize((0.5, 0.5, 0.5), (0.5, 0.5, 0.5))])  # Normalize(平均, 偏差)\n",
    "\n",
    "    trainset = torchvision.datasets.CIFAR10(root='./data', train=True,\n",
    "                                            download=True, transform=transform)\n",
    "    trainloader = torch.utils.data.DataLoader(trainset, batch_size,\n",
    "                                              shuffle=True, num_workers=2)\n",
    "\n",
    "    testset = torchvision.datasets.CIFAR10(root='./data', train=False,\n",
    "                                           download=True, transform=transform)\n",
    "    testloader = torch.utils.data.DataLoader(testset, batch_size,\n",
    "                                             shuffle=False, num_workers=2)\n",
    "\n",
    "\n",
    "    return trainloader, testloader"
   ]
  },
  {
   "cell_type": "code",
   "execution_count": 4,
   "metadata": {},
   "outputs": [],
   "source": [
    "class LinearNet(nn.Module):\n",
    "    def __init__(self):\n",
    "        super(LinearNet, self).__init__()\n",
    "        self.fc1 = nn.Linear(3*32*32, 1000)\n",
    "        self.fc2 = nn.Linear(1000, 10)\n",
    "    \n",
    "    def forward(self, x):\n",
    "        x = self.fc1(x)\n",
    "        x = torch.sigmoid(x)\n",
    "        x = self.fc2(x)\n",
    "        \n",
    "        return f.log_softmax(x, dim=1)"
   ]
  },
  {
   "cell_type": "code",
   "execution_count": 11,
   "metadata": {},
   "outputs": [],
   "source": [
    "classes = ('plane', 'car', 'bird', 'cat',\n",
    "           'deer', 'dog', 'frog', 'horse', 'ship', 'truck')"
   ]
  },
  {
   "cell_type": "code",
   "execution_count": 12,
   "metadata": {},
   "outputs": [],
   "source": [
    "device = 'cuda' if torch.cuda.is_available() else 'cpu'\n",
    "net = LinearNet().to(device)"
   ]
  },
  {
   "cell_type": "code",
   "execution_count": 13,
   "metadata": {},
   "outputs": [],
   "source": [
    "criterion = nn.CrossEntropyLoss()\n",
    "optimizer = torch.optim.SGD(net.parameters(), lr=0.01, momentum=0.9, weight_decay=5e-4)"
   ]
  },
  {
   "cell_type": "code",
   "execution_count": 14,
   "metadata": {},
   "outputs": [
    {
     "name": "stdout",
     "output_type": "stream",
     "text": [
      "Files already downloaded and verified\n",
      "Files already downloaded and verified\n"
     ]
    }
   ],
   "source": [
    "batch_size = 64\n",
    "train_loader, test_loader = data_loader(batch_size)"
   ]
  },
  {
   "cell_type": "code",
   "execution_count": null,
   "metadata": {},
   "outputs": [
    {
     "name": "stdout",
     "output_type": "stream",
     "text": [
      "Training log: 1 epoch (64 / 60000 train. data). Loss: 2.343085527420044\n",
      "Training log: 1 epoch (704 / 60000 train. data). Loss: 2.2664434909820557\n",
      "Training log: 1 epoch (1344 / 60000 train. data). Loss: 2.155883550643921\n",
      "Training log: 1 epoch (1984 / 60000 train. data). Loss: 2.2007012367248535\n",
      "Training log: 1 epoch (2624 / 60000 train. data). Loss: 2.120431423187256\n",
      "Training log: 1 epoch (3264 / 60000 train. data). Loss: 2.134082317352295\n",
      "Training log: 1 epoch (3904 / 60000 train. data). Loss: 2.1673357486724854\n",
      "Training log: 1 epoch (4544 / 60000 train. data). Loss: 2.120565414428711\n",
      "Training log: 1 epoch (5184 / 60000 train. data). Loss: 2.2198359966278076\n",
      "Training log: 1 epoch (5824 / 60000 train. data). Loss: 2.0086278915405273\n",
      "Training log: 1 epoch (6464 / 60000 train. data). Loss: 1.984784722328186\n",
      "Training log: 1 epoch (7104 / 60000 train. data). Loss: 1.8617666959762573\n",
      "Training log: 1 epoch (7744 / 60000 train. data). Loss: 1.879723072052002\n",
      "Training log: 1 epoch (8384 / 60000 train. data). Loss: 2.0487828254699707\n",
      "Training log: 1 epoch (9024 / 60000 train. data). Loss: 1.9303748607635498\n",
      "Training log: 1 epoch (9664 / 60000 train. data). Loss: 2.104482889175415\n",
      "Training log: 1 epoch (10304 / 60000 train. data). Loss: 1.957425594329834\n",
      "Training log: 1 epoch (10944 / 60000 train. data). Loss: 1.9875218868255615\n",
      "Training log: 1 epoch (11584 / 60000 train. data). Loss: 2.059727191925049\n",
      "Training log: 1 epoch (12224 / 60000 train. data). Loss: 1.840815544128418\n",
      "Training log: 1 epoch (12864 / 60000 train. data). Loss: 1.9250050783157349\n",
      "Training log: 1 epoch (13504 / 60000 train. data). Loss: 2.0401933193206787\n",
      "Training log: 1 epoch (14144 / 60000 train. data). Loss: 1.7666583061218262\n",
      "Training log: 1 epoch (14784 / 60000 train. data). Loss: 1.862508773803711\n",
      "Training log: 1 epoch (15424 / 60000 train. data). Loss: 2.281940221786499\n",
      "Training log: 1 epoch (16064 / 60000 train. data). Loss: 2.1090784072875977\n",
      "Training log: 1 epoch (16704 / 60000 train. data). Loss: 1.7578494548797607\n",
      "Training log: 1 epoch (17344 / 60000 train. data). Loss: 1.966643214225769\n",
      "Training log: 1 epoch (17984 / 60000 train. data). Loss: 1.819367527961731\n",
      "Training log: 1 epoch (18624 / 60000 train. data). Loss: 1.8585854768753052\n",
      "Training log: 1 epoch (19264 / 60000 train. data). Loss: 1.7857307195663452\n",
      "Training log: 1 epoch (19904 / 60000 train. data). Loss: 2.0638210773468018\n",
      "Training log: 1 epoch (20544 / 60000 train. data). Loss: 1.7224674224853516\n",
      "Training log: 1 epoch (21184 / 60000 train. data). Loss: 1.7769578695297241\n",
      "Training log: 1 epoch (21824 / 60000 train. data). Loss: 1.8734416961669922\n",
      "Training log: 1 epoch (22464 / 60000 train. data). Loss: 1.7898330688476562\n",
      "Training log: 1 epoch (23104 / 60000 train. data). Loss: 1.7718614339828491\n",
      "Training log: 1 epoch (23744 / 60000 train. data). Loss: 2.0874314308166504\n",
      "Training log: 1 epoch (24384 / 60000 train. data). Loss: 2.066932201385498\n",
      "Training log: 1 epoch (25024 / 60000 train. data). Loss: 1.9144022464752197\n",
      "Training log: 1 epoch (25664 / 60000 train. data). Loss: 1.9933414459228516\n",
      "Training log: 1 epoch (26304 / 60000 train. data). Loss: 1.9828524589538574\n",
      "Training log: 1 epoch (26944 / 60000 train. data). Loss: 1.7902171611785889\n",
      "Training log: 1 epoch (27584 / 60000 train. data). Loss: 1.9857100248336792\n",
      "Training log: 1 epoch (28224 / 60000 train. data). Loss: 1.8322203159332275\n",
      "Training log: 1 epoch (28864 / 60000 train. data). Loss: 1.9308991432189941\n",
      "Training log: 1 epoch (29504 / 60000 train. data). Loss: 1.8456335067749023\n",
      "Training log: 1 epoch (30144 / 60000 train. data). Loss: 1.8424592018127441\n",
      "Training log: 1 epoch (30784 / 60000 train. data). Loss: 2.109652042388916\n",
      "Training log: 1 epoch (31424 / 60000 train. data). Loss: 1.6585227251052856\n",
      "Training log: 1 epoch (32064 / 60000 train. data). Loss: 2.0211844444274902\n",
      "Training log: 1 epoch (32704 / 60000 train. data). Loss: 1.8993040323257446\n",
      "Training log: 1 epoch (33344 / 60000 train. data). Loss: 1.8941285610198975\n",
      "Training log: 1 epoch (33984 / 60000 train. data). Loss: 1.881539225578308\n",
      "Training log: 1 epoch (34624 / 60000 train. data). Loss: 2.0463356971740723\n",
      "Training log: 1 epoch (35264 / 60000 train. data). Loss: 1.7968425750732422\n",
      "Training log: 1 epoch (35904 / 60000 train. data). Loss: 2.208329916000366\n",
      "Training log: 1 epoch (36544 / 60000 train. data). Loss: 1.7430673837661743\n",
      "Training log: 1 epoch (37184 / 60000 train. data). Loss: 1.8457216024398804\n",
      "Training log: 1 epoch (37824 / 60000 train. data). Loss: 1.6936171054840088\n",
      "Training log: 1 epoch (38464 / 60000 train. data). Loss: 1.8421450853347778\n",
      "Training log: 1 epoch (39104 / 60000 train. data). Loss: 1.806479811668396\n",
      "Training log: 1 epoch (39744 / 60000 train. data). Loss: 1.729499340057373\n",
      "Training log: 1 epoch (40384 / 60000 train. data). Loss: 1.7589685916900635\n",
      "Training log: 1 epoch (41024 / 60000 train. data). Loss: 1.7349629402160645\n",
      "Training log: 1 epoch (41664 / 60000 train. data). Loss: 1.6603100299835205\n",
      "Training log: 1 epoch (42304 / 60000 train. data). Loss: 1.6806381940841675\n",
      "Training log: 1 epoch (42944 / 60000 train. data). Loss: 1.8126046657562256\n",
      "Training log: 1 epoch (43584 / 60000 train. data). Loss: 1.8834683895111084\n",
      "Training log: 1 epoch (44224 / 60000 train. data). Loss: 2.0604982376098633\n",
      "Training log: 1 epoch (44864 / 60000 train. data). Loss: 1.9271838665008545\n",
      "Training log: 1 epoch (45504 / 60000 train. data). Loss: 1.9885711669921875\n",
      "Training log: 1 epoch (46144 / 60000 train. data). Loss: 1.8753124475479126\n",
      "Training log: 1 epoch (46784 / 60000 train. data). Loss: 1.6341423988342285\n",
      "Training log: 1 epoch (47424 / 60000 train. data). Loss: 1.8241170644760132\n",
      "Training log: 1 epoch (48064 / 60000 train. data). Loss: 1.7817469835281372\n",
      "Training log: 1 epoch (48704 / 60000 train. data). Loss: 1.7790839672088623\n",
      "Training log: 1 epoch (49344 / 60000 train. data). Loss: 1.9665539264678955\n",
      "Training log: 1 epoch (49984 / 60000 train. data). Loss: 1.7310357093811035\n",
      "Test loss (avg): 1.8065056337672434, Accuracy: 0.3644\n",
      "Training log: 2 epoch (64 / 60000 train. data). Loss: 1.9227052927017212\n",
      "Training log: 2 epoch (704 / 60000 train. data). Loss: 2.0770246982574463\n",
      "Training log: 2 epoch (1344 / 60000 train. data). Loss: 1.835593819618225\n",
      "Training log: 2 epoch (1984 / 60000 train. data). Loss: 1.7375279664993286\n",
      "Training log: 2 epoch (2624 / 60000 train. data). Loss: 1.5266859531402588\n",
      "Training log: 2 epoch (3264 / 60000 train. data). Loss: 1.8115252256393433\n",
      "Training log: 2 epoch (3904 / 60000 train. data). Loss: 1.7839823961257935\n",
      "Training log: 2 epoch (4544 / 60000 train. data). Loss: 1.8257726430892944\n",
      "Training log: 2 epoch (5184 / 60000 train. data). Loss: 1.7517057657241821\n",
      "Training log: 2 epoch (5824 / 60000 train. data). Loss: 1.9166334867477417\n",
      "Training log: 2 epoch (6464 / 60000 train. data). Loss: 1.8773458003997803\n",
      "Training log: 2 epoch (7104 / 60000 train. data). Loss: 1.827022910118103\n",
      "Training log: 2 epoch (7744 / 60000 train. data). Loss: 1.8659461736679077\n",
      "Training log: 2 epoch (8384 / 60000 train. data). Loss: 1.7765138149261475\n",
      "Training log: 2 epoch (9024 / 60000 train. data). Loss: 1.7568703889846802\n",
      "Training log: 2 epoch (9664 / 60000 train. data). Loss: 2.0199472904205322\n",
      "Training log: 2 epoch (10304 / 60000 train. data). Loss: 2.020695209503174\n",
      "Training log: 2 epoch (10944 / 60000 train. data). Loss: 1.639101266860962\n",
      "Training log: 2 epoch (11584 / 60000 train. data). Loss: 1.8799196481704712\n",
      "Training log: 2 epoch (12224 / 60000 train. data). Loss: 1.7261359691619873\n",
      "Training log: 2 epoch (12864 / 60000 train. data). Loss: 1.5258021354675293\n",
      "Training log: 2 epoch (13504 / 60000 train. data). Loss: 1.7031275033950806\n",
      "Training log: 2 epoch (14144 / 60000 train. data). Loss: 1.7288267612457275\n",
      "Training log: 2 epoch (14784 / 60000 train. data). Loss: 1.7138500213623047\n",
      "Training log: 2 epoch (15424 / 60000 train. data). Loss: 1.727548599243164\n",
      "Training log: 2 epoch (16064 / 60000 train. data). Loss: 1.8398611545562744\n",
      "Training log: 2 epoch (16704 / 60000 train. data). Loss: 1.8126171827316284\n",
      "Training log: 2 epoch (17344 / 60000 train. data). Loss: 1.7072759866714478\n",
      "Training log: 2 epoch (17984 / 60000 train. data). Loss: 1.8743047714233398\n"
     ]
    },
    {
     "name": "stdout",
     "output_type": "stream",
     "text": [
      "Training log: 2 epoch (18624 / 60000 train. data). Loss: 1.8465875387191772\n",
      "Training log: 2 epoch (19264 / 60000 train. data). Loss: 1.9145270586013794\n",
      "Training log: 2 epoch (19904 / 60000 train. data). Loss: 1.7582823038101196\n",
      "Training log: 2 epoch (20544 / 60000 train. data). Loss: 1.837105393409729\n",
      "Training log: 2 epoch (21184 / 60000 train. data). Loss: 1.9613507986068726\n",
      "Training log: 2 epoch (21824 / 60000 train. data). Loss: 1.7205018997192383\n",
      "Training log: 2 epoch (22464 / 60000 train. data). Loss: 1.746718406677246\n",
      "Training log: 2 epoch (23104 / 60000 train. data). Loss: 1.8876994848251343\n",
      "Training log: 2 epoch (23744 / 60000 train. data). Loss: 1.7648628950119019\n",
      "Training log: 2 epoch (24384 / 60000 train. data). Loss: 1.8232636451721191\n",
      "Training log: 2 epoch (25024 / 60000 train. data). Loss: 1.7491614818572998\n",
      "Training log: 2 epoch (25664 / 60000 train. data). Loss: 1.8725497722625732\n",
      "Training log: 2 epoch (26304 / 60000 train. data). Loss: 1.8275766372680664\n",
      "Training log: 2 epoch (26944 / 60000 train. data). Loss: 1.9699333906173706\n",
      "Training log: 2 epoch (27584 / 60000 train. data). Loss: 1.8405094146728516\n",
      "Training log: 2 epoch (28224 / 60000 train. data). Loss: 1.707026720046997\n",
      "Training log: 2 epoch (28864 / 60000 train. data). Loss: 1.9073596000671387\n",
      "Training log: 2 epoch (29504 / 60000 train. data). Loss: 1.5449199676513672\n",
      "Training log: 2 epoch (30144 / 60000 train. data). Loss: 1.9277663230895996\n",
      "Training log: 2 epoch (30784 / 60000 train. data). Loss: 1.9245402812957764\n",
      "Training log: 2 epoch (31424 / 60000 train. data). Loss: 2.1380696296691895\n",
      "Training log: 2 epoch (32064 / 60000 train. data). Loss: 1.815849781036377\n",
      "Training log: 2 epoch (32704 / 60000 train. data). Loss: 1.7974807024002075\n",
      "Training log: 2 epoch (33344 / 60000 train. data). Loss: 2.0250566005706787\n",
      "Training log: 2 epoch (33984 / 60000 train. data). Loss: 1.9667783975601196\n",
      "Training log: 2 epoch (34624 / 60000 train. data). Loss: 2.1122069358825684\n",
      "Training log: 2 epoch (35264 / 60000 train. data). Loss: 1.7226260900497437\n",
      "Training log: 2 epoch (35904 / 60000 train. data). Loss: 1.9095704555511475\n",
      "Training log: 2 epoch (36544 / 60000 train. data). Loss: 1.8237907886505127\n",
      "Training log: 2 epoch (37184 / 60000 train. data). Loss: 1.957180142402649\n",
      "Training log: 2 epoch (37824 / 60000 train. data). Loss: 1.5784448385238647\n",
      "Training log: 2 epoch (38464 / 60000 train. data). Loss: 1.6222269535064697\n",
      "Training log: 2 epoch (39104 / 60000 train. data). Loss: 1.5986976623535156\n",
      "Training log: 2 epoch (39744 / 60000 train. data). Loss: 1.9858686923980713\n",
      "Training log: 2 epoch (40384 / 60000 train. data). Loss: 2.03836727142334\n",
      "Training log: 2 epoch (41024 / 60000 train. data). Loss: 1.5673518180847168\n",
      "Training log: 2 epoch (41664 / 60000 train. data). Loss: 1.9773153066635132\n",
      "Training log: 2 epoch (42304 / 60000 train. data). Loss: 1.6578516960144043\n",
      "Training log: 2 epoch (42944 / 60000 train. data). Loss: 1.6781367063522339\n",
      "Training log: 2 epoch (43584 / 60000 train. data). Loss: 1.8573143482208252\n",
      "Training log: 2 epoch (44224 / 60000 train. data). Loss: 2.006850242614746\n",
      "Training log: 2 epoch (44864 / 60000 train. data). Loss: 1.9327269792556763\n",
      "Training log: 2 epoch (45504 / 60000 train. data). Loss: 1.6827871799468994\n",
      "Training log: 2 epoch (46144 / 60000 train. data). Loss: 1.928162693977356\n",
      "Training log: 2 epoch (46784 / 60000 train. data). Loss: 1.9154001474380493\n",
      "Training log: 2 epoch (47424 / 60000 train. data). Loss: 2.1184580326080322\n",
      "Training log: 2 epoch (48064 / 60000 train. data). Loss: 1.8080816268920898\n",
      "Training log: 2 epoch (48704 / 60000 train. data). Loss: 1.7764137983322144\n",
      "Training log: 2 epoch (49344 / 60000 train. data). Loss: 1.760055661201477\n",
      "Training log: 2 epoch (49984 / 60000 train. data). Loss: 1.6764202117919922\n",
      "Test loss (avg): 1.7981510792568232, Accuracy: 0.3653\n"
     ]
    }
   ],
   "source": [
    "num_epochs = 20\n",
    "\n",
    "train_loss_list = []\n",
    "train_acc_list = []\n",
    "val_loss_list = []\n",
    "val_acc_list = []\n",
    "\n",
    "for epoch in range(num_epochs):\n",
    "    train_loss = 0\n",
    "    train_acc = 0\n",
    "    val_loss = 0\n",
    "    val_acc = 0\n",
    "    \n",
    "    net.train()\n",
    "    for i, (images, labels) in enumerate(train_loader):\n",
    "        images = images.view(-1, 3*32*32).to(device)\n",
    "        images, labels = images.to(device), labels.to(device)\n",
    "        \n",
    "        optimizer.zero_grad()\n",
    "        outputs = net(images)\n",
    "        loss = criterion(outputs, labels)\n",
    "        train_loss += loss.item()\n",
    "        train_acc += (outputs.max(1)[1] == labels).sum().item()\n",
    "        loss.backward()\n",
    "        optimizer.step()\n",
    "        \n",
    "        if i % 10 == 0:\n",
    "                print('Training log: {} epoch ({} / 60000 train. data). Loss: {}'.format(epoch+1, (i+1)*batch_size, loss.item()))\n",
    "    \n",
    "    avg_train_loss = train_loss / len(train_loader)\n",
    "    avg_train_acc = train_acc / len(train_loader.dataset)\n",
    "    \n",
    "    net.eval()\n",
    "    with torch.no_grad():\n",
    "        for images, labels in test_loader:\n",
    "            images = images.view(-1, 3*32*32).to(device)\n",
    "            images, labels = images.to(device), labels.to(device)\n",
    "            outputs = net(images)\n",
    "            loss = criterion(outputs, labels)\n",
    "            val_loss += loss.item()\n",
    "            val_acc += (outputs.max(1)[1] == labels).sum().item()\n",
    "            \n",
    "    avg_val_loss = val_loss / len(test_loader)\n",
    "    avg_val_acc = val_acc / len(test_loader.dataset)\n",
    "    \n",
    "    print('Test loss (avg): {}, Accuracy: {}'.format(avg_val_loss, avg_val_acc))\n",
    "    \n",
    "    train_loss_list.append(avg_train_loss)\n",
    "    train_acc_list.append(avg_train_acc)\n",
    "    val_loss_list.append(avg_val_loss)\n",
    "    val_acc_list.append(avg_val_acc)\n",
    "    \n",
    "            "
   ]
  },
  {
   "cell_type": "code",
   "execution_count": 10,
   "metadata": {},
   "outputs": [
    {
     "name": "stdout",
     "output_type": "stream",
     "text": [
      "20\n",
      "[]\n",
      "[]\n",
      "[]\n"
     ]
    },
    {
     "data": {
      "image/png": "[encoded data removed]",
      "text/plain": [
       "<Figure size 432x288 with 1 Axes>"
      ]
     },
     "metadata": {
      "needs_background": "light"
     },
     "output_type": "display_data"
    },
    {
     "data": {
      "image/png": "[encoded data removed]",
      "text/plain": [
       "<Figure size 432x288 with 1 Axes>"
      ]
     },
     "metadata": {
      "needs_background": "light"
     },
     "output_type": "display_data"
    }
   ],
   "source": [
    "print(num_epochs)\n",
    "# print(history)\n",
    "plt.figure()\n",
    "plt.plot(range(len(train_loss_list)), train_loss_list, label='train_loss')\n",
    "plt.plot(range(len(val_loss_list)), val_loss_list, label='test_loss')\n",
    "plt.xlabel('epoch')\n",
    "plt.legend()\n",
    "plt.savefig('linear.png')\n",
    "\n",
    "plt.figure()\n",
    "plt.plot(range(len(val_acc_list)), val_acc_list)\n",
    "plt.ylim(0, 1)\n",
    "plt.title('test accuracy')\n",
    "plt.xlabel('epoch')\n",
    "plt.savefig('linear.png')\n",
    "print(val_acc_list)\n",
    "print(train_loss_list)\n",
    "print(val_loss_list)"
   ]
  },
  {
   "cell_type": "code",
   "execution_count": null,
   "metadata": {},
   "outputs": [],
   "source": []
  }
 ],
 "metadata": {
  "kernelspec": {
   "display_name": "Python 3",
   "language": "python",
   "name": "python3"
  },
  "language_info": {
   "codemirror_mode": {
    "name": "ipython",
    "version": 3
   },
   "file_extension": ".py",
   "mimetype": "text/x-python",
   "name": "python",
   "nbconvert_exporter": "python",
   "pygments_lexer": "ipython3",
   "version": "3.7.6"
  }
 },
 "nbformat": 4,
 "nbformat_minor": 4
}
