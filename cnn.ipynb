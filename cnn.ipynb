{
 "cells": [
  {
   "cell_type": "code",
   "execution_count": 2,
   "metadata": {},
   "outputs": [],
   "source": [
    "import torch.nn.functional as f\n",
    "from torch.utils.data import DataLoader\n",
    "from torchvision import datasets, transforms\n",
    "import matplotlib.pyplot as plt\n",
    "import torch\n",
    "import torch.nn as nn"
   ]
  },
  {
   "cell_type": "code",
   "execution_count": 34,
   "metadata": {},
   "outputs": [],
   "source": [
    "class MyCnn(nn.Module):\n",
    "    def __init__(self, num_classes=10):\n",
    "        super(MyCnn, self).__init__()\n",
    "        self.features = nn.Sequential(\n",
    "            nn.Conv2d(1, 64, kernel_size=11, stride=4, padding=5),\n",
    "            nn.ReLU(inplace=True),\n",
    "            nn.MaxPool2d(kernel_size=2, stride=2),\n",
    "            nn.Conv2d(64, 192, kernel_size=5, padding=2),\n",
    "            nn.ReLU(inplace=True),\n",
    "            nn.MaxPool2d(kernel_size=2, stride=2),\n",
    "            nn.Conv2d(192, 384, kernel_size=3, padding=1),\n",
    "            nn.ReLU(inplace=True),\n",
    "            nn.Conv2d(384, 256, kernel_size=3, padding=1),\n",
    "            nn.ReLU(inplace=True),\n",
    "            nn.Conv2d(256, 256, kernel_size=3, padding=1),\n",
    "            nn.ReLU(inplace=True),\n",
    "#             nn.MaxPool2d(kernel_size=2, stride=2)\n",
    "        )\n",
    "            \n",
    "        self.classifier = nn.Linear(256, 10)\n",
    "    \n",
    "    def forward(self, x):\n",
    "        x = self.features(x)\n",
    "        x = x.view(x.size(0), -1)\n",
    "        x = self.classifier(x)\n",
    "        return x\n",
    "\n"
   ]
  },
  {
   "cell_type": "code",
   "execution_count": 35,
   "metadata": {},
   "outputs": [],
   "source": [
    "def load_MNIST(batch=128, intensity=1.0):\n",
    "    train_loader = torch.utils.data.DataLoader(\n",
    "        datasets.MNIST('./data',\n",
    "                       train=True,\n",
    "                       download=True,\n",
    "                       transform=transforms.Compose([\n",
    "                           transforms.ToTensor(),\n",
    "                           transforms.Lambda(lambda x: x * intensity)\n",
    "                       ])),\n",
    "        batch_size=batch,\n",
    "        shuffle=True)\n",
    " \n",
    "    test_loader = torch.utils.data.DataLoader(\n",
    "        datasets.MNIST('./data',\n",
    "                       train=False,\n",
    "                       transform=transforms.Compose([\n",
    "                           transforms.ToTensor(),\n",
    "                           transforms.Lambda(lambda x: x * intensity)\n",
    "                       ])),\n",
    "        batch_size=batch,\n",
    "        shuffle=True)\n",
    " \n",
    "    return {'train': train_loader, 'test': test_loader}"
   ]
  },
  {
   "cell_type": "code",
   "execution_count": 36,
   "metadata": {},
   "outputs": [],
   "source": [
    "num_epoch = 1\n",
    "history = {\n",
    "    'train_loss':[],\n",
    "    'test_loss':[],\n",
    "    'test_acc':[]\n",
    "}\n",
    "\n",
    "device = 'cuda' if torch.cuda.is_available() else 'cpu'\n",
    "net = MyCnn().to(device)\n",
    "loaders = load_MNIST()\n",
    "optimizer = torch.optim.Adam(params=net.parameters(), lr=0.001)"
   ]
  },
  {
   "cell_type": "code",
   "execution_count": 37,
   "metadata": {},
   "outputs": [
    {
     "name": "stdout",
     "output_type": "stream",
     "text": [
      "Training log: 1 epoch (128 / 60000 train. data). Loss: -0.024080762639641762\n",
      "Training log: 1 epoch (1408 / 60000 train. data). Loss: -3.4093551635742188\n",
      "Training log: 1 epoch (2688 / 60000 train. data). Loss: -185.54656982421875\n",
      "Training log: 1 epoch (3968 / 60000 train. data). Loss: -3139.251708984375\n",
      "Training log: 1 epoch (5248 / 60000 train. data). Loss: -29544.203125\n",
      "Training log: 1 epoch (6528 / 60000 train. data). Loss: -181777.0625\n",
      "Training log: 1 epoch (7808 / 60000 train. data). Loss: -851819.5\n",
      "Training log: 1 epoch (9088 / 60000 train. data). Loss: -3357213.75\n",
      "Training log: 1 epoch (10368 / 60000 train. data). Loss: -10669662.0\n",
      "Training log: 1 epoch (11648 / 60000 train. data). Loss: -29444318.0\n",
      "Training log: 1 epoch (12928 / 60000 train. data). Loss: -72063584.0\n",
      "Training log: 1 epoch (14208 / 60000 train. data). Loss: -172598544.0\n",
      "Training log: 1 epoch (15488 / 60000 train. data). Loss: -358723872.0\n",
      "Training log: 1 epoch (16768 / 60000 train. data). Loss: -714956352.0\n",
      "Training log: 1 epoch (18048 / 60000 train. data). Loss: -1366607360.0\n",
      "Training log: 1 epoch (19328 / 60000 train. data). Loss: -2365481984.0\n",
      "Training log: 1 epoch (20608 / 60000 train. data). Loss: -4221730048.0\n",
      "Training log: 1 epoch (21888 / 60000 train. data). Loss: -6887220224.0\n",
      "Training log: 1 epoch (23168 / 60000 train. data). Loss: -10804670464.0\n",
      "Training log: 1 epoch (24448 / 60000 train. data). Loss: -17076230144.0\n",
      "Training log: 1 epoch (25728 / 60000 train. data). Loss: -25921495040.0\n",
      "Training log: 1 epoch (27008 / 60000 train. data). Loss: -38502318080.0\n",
      "Training log: 1 epoch (28288 / 60000 train. data). Loss: -58870480896.0\n",
      "Training log: 1 epoch (29568 / 60000 train. data). Loss: -79912787968.0\n",
      "Training log: 1 epoch (30848 / 60000 train. data). Loss: -112223322112.0\n",
      "Training log: 1 epoch (32128 / 60000 train. data). Loss: -153889226752.0\n",
      "Training log: 1 epoch (33408 / 60000 train. data). Loss: -203799101440.0\n",
      "Training log: 1 epoch (34688 / 60000 train. data). Loss: -270547222528.0\n",
      "Training log: 1 epoch (35968 / 60000 train. data). Loss: -355343892480.0\n",
      "Training log: 1 epoch (37248 / 60000 train. data). Loss: -480011747328.0\n",
      "Training log: 1 epoch (38528 / 60000 train. data). Loss: -608945242112.0\n",
      "Training log: 1 epoch (39808 / 60000 train. data). Loss: -816434774016.0\n",
      "Training log: 1 epoch (41088 / 60000 train. data). Loss: -1006138949632.0\n",
      "Training log: 1 epoch (42368 / 60000 train. data). Loss: -1207921016832.0\n",
      "Training log: 1 epoch (43648 / 60000 train. data). Loss: -1612235014144.0\n",
      "Training log: 1 epoch (44928 / 60000 train. data). Loss: -1876532789248.0\n",
      "Training log: 1 epoch (46208 / 60000 train. data). Loss: -2299938209792.0\n",
      "Training log: 1 epoch (47488 / 60000 train. data). Loss: -2861196378112.0\n",
      "Training log: 1 epoch (48768 / 60000 train. data). Loss: -3543650533376.0\n",
      "Training log: 1 epoch (50048 / 60000 train. data). Loss: -4450594848768.0\n",
      "Training log: 1 epoch (51328 / 60000 train. data). Loss: -4935805042688.0\n",
      "Training log: 1 epoch (52608 / 60000 train. data). Loss: -5675739512832.0\n",
      "Training log: 1 epoch (53888 / 60000 train. data). Loss: -7271680573440.0\n",
      "Training log: 1 epoch (55168 / 60000 train. data). Loss: -8257280147456.0\n",
      "Training log: 1 epoch (56448 / 60000 train. data). Loss: -9522439520256.0\n",
      "Training log: 1 epoch (57728 / 60000 train. data). Loss: -11330114289664.0\n",
      "Training log: 1 epoch (59008 / 60000 train. data). Loss: -13284513153024.0\n",
      "Test loss (avg): -15490067830774.17, Accuracy: 0.098\n"
     ]
    }
   ],
   "source": [
    "for i_epoch in range(num_epoch):\n",
    "    loss = None\n",
    "    \n",
    "    net.train(True)\n",
    "    \n",
    "    for i, (data, target) in enumerate(loaders['train']):\n",
    "        data = data.to(device)\n",
    "        target = target.to(device)\n",
    "        \n",
    "        optimizer.zero_grad()\n",
    "        output = net(data)\n",
    "        loss = f.nll_loss(output, target)\n",
    "        loss.backward()\n",
    "        optimizer.step()\n",
    "        \n",
    "        if i % 10 == 0:\n",
    "            print('Training log: {} epoch ({} / 60000 train. data). Loss: {}'.format(i_epoch+1, (i+1)*128, loss.item()))\n",
    "    \n",
    "    history['train_loss'].append(loss)\n",
    "    \n",
    "    net.eval()\n",
    "    test_loss = 0\n",
    "    correct = 0\n",
    "    \n",
    "    with torch.no_grad():\n",
    "        for data, target in loaders['test']:\n",
    "            data = data.to(device)\n",
    "            target = target.to(device)\n",
    "            \n",
    "            output = net(data)\n",
    "            test_loss += f.nll_loss(output, target, reduction='sum').item()\n",
    "            pred = output.argmax(dim=1, keepdim=True)\n",
    "            correct += pred.eq(target.view_as(pred)).sum().item()\n",
    "    \n",
    "    test_loss /= 10000\n",
    "    print('Test loss (avg): {}, Accuracy: {}'.format(test_loss, correct / 10000))\n",
    "    \n",
    "    history['test_loss'].append(test_loss)\n",
    "    history['test_acc'].append(correct / 10000)"
   ]
  },
  {
   "cell_type": "code",
   "execution_count": 38,
   "metadata": {},
   "outputs": [
    {
     "name": "stdout",
     "output_type": "stream",
     "text": [
      "{'train_loss': [tensor(-1.5555e+13, device='cuda:0', grad_fn=<NllLossBackward>)], 'test_loss': [-15490067830774.17], 'test_acc': [0.098]}\n"
     ]
    },
    {
     "data": {
      "image/png": "[encoded data removed]",
      "text/plain": [
       "<Figure size 432x288 with 1 Axes>"
      ]
     },
     "metadata": {
      "needs_background": "light"
     },
     "output_type": "display_data"
    },
    {
     "data": {
      "image/png": "[encoded data removed]",
      "text/plain": [
       "<Figure size 432x288 with 1 Axes>"
      ]
     },
     "metadata": {
      "needs_background": "light"
     },
     "output_type": "display_data"
    }
   ],
   "source": [
    "num_epoch\n",
    "print(history)\n",
    "plt.figure()\n",
    "plt.plot(range(len(history['train_loss'])), history['train_loss'], label='train_loss')\n",
    "plt.plot(range(len(history['test_loss'])), history['test_loss'], label='test_loss')\n",
    "plt.xlabel('epoch')\n",
    "plt.legend()\n",
    "plt.savefig('cnnloss.png')\n",
    "\n",
    "plt.figure()\n",
    "plt.plot(range(len(history['test_acc'])), history['test_acc'])\n",
    "plt.title('test accuracy')\n",
    "plt.xlabel('epoch')\n",
    "plt.savefig('cnn_test_acc2.png')"
   ]
  }
 ],
 "metadata": {
  "kernelspec": {
   "display_name": "Python 3",
   "language": "python",
   "name": "python3"
  },
  "language_info": {
   "codemirror_mode": {
    "name": "ipython",
    "version": 3
   },
   "file_extension": ".py",
   "mimetype": "text/x-python",
   "name": "python",
   "nbconvert_exporter": "python",
   "pygments_lexer": "ipython3",
   "version": "3.7.6"
  }
 },
 "nbformat": 4,
 "nbformat_minor": 4
}
