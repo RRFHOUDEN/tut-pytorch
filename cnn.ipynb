{
 "cells": [
  {
   "cell_type": "code",
   "execution_count": 166,
   "metadata": {},
   "outputs": [],
   "source": [
    "import torch.nn.functional as f\n",
    "from torch.utils.data import DataLoader\n",
    "from torchvision import datasets, transforms\n",
    "import matplotlib.pyplot as plt\n",
    "import torch\n",
    "import torch.nn as nn"
   ]
  },
  {
   "cell_type": "code",
   "execution_count": 167,
   "metadata": {},
   "outputs": [],
   "source": [
    "class MyCnn(nn.Module):\n",
    "    def __init__(self, num_classes=10):\n",
    "        super(MyCnn, self).__init__()\n",
    "        self.features = nn.Sequential(\n",
    "            # kernel_size:畳み込む行列のサイズ\n",
    "            # stride:スライドするときのサイズ\n",
    "            # padding:上下左右に追加する空白\n",
    "            # 1*28*28 のデータ\n",
    "            nn.Conv2d(1, 64, kernel_size=2, stride=1, padding=1), # 1*28*28 => 64*29*29\n",
    "            nn.ReLU(inplace=True),\n",
    "            nn.MaxPool2d(kernel_size=3, stride=1), #64*29*29 => 64*27*27 46656\n",
    "            nn.Conv2d(64, 192, kernel_size=3, stride=1, padding=1), # 64*27*27 => 192*27*27 139968\n",
    "            nn.ReLU(inplace=True),\n",
    "            nn.MaxPool2d(kernel_size=3, stride=3), # 192*27*27 => 192*9*9 15552\n",
    "            nn.Conv2d(192, 384, kernel_size=2, stride=1, padding=1), # 192*9*9 => 384*10*10\n",
    "            nn.ReLU(inplace=True),\n",
    "            nn.Conv2d(384, 256, kernel_size=3, stride=1, padding=1), # 384*10*10 => 256*10*10\n",
    "            nn.ReLU(inplace=True),\n",
    "            nn.Conv2d(256, 256, kernel_size=3, stride=1, padding=1), # 256*10*10 => 256*10*10\n",
    "            nn.ReLU(inplace=True),\n",
    "            nn.MaxPool2d(kernel_size=2, stride=2), # 256*10*10 => 256*5*5\n",
    "        )\n",
    "            \n",
    "        self.classifier = nn.Linear(256*5*5, 10)\n",
    "#         self.classifier = nn.Linear(28*28, 10)\n",
    "    \n",
    "    def forward(self, x):\n",
    "        x = self.features(x)\n",
    "        x = x.view(x.size(0), -1)\n",
    "        x = self.classifier(x)\n",
    "        return x\n",
    "\n"
   ]
  },
  {
   "cell_type": "code",
   "execution_count": 168,
   "metadata": {},
   "outputs": [],
   "source": [
    "def load_MNIST(batch=128, intensity=1.0):\n",
    "    train_loader = torch.utils.data.DataLoader(\n",
    "        datasets.MNIST('./data',\n",
    "                       train=True,\n",
    "                       download=True,\n",
    "                       transform=transforms.Compose([\n",
    "                           transforms.ToTensor(),\n",
    "                           transforms.Lambda(lambda x: x * intensity)\n",
    "                       ])),\n",
    "        batch_size=batch,\n",
    "        shuffle=True)\n",
    " \n",
    "    test_loader = torch.utils.data.DataLoader(\n",
    "        datasets.MNIST('./data',\n",
    "                       train=False,\n",
    "                       transform=transforms.Compose([\n",
    "                           transforms.ToTensor(),\n",
    "                           transforms.Lambda(lambda x: x * intensity)\n",
    "                       ])),\n",
    "        batch_size=batch,\n",
    "        shuffle=True)\n",
    " \n",
    "    return {'train': train_loader, 'test': test_loader}"
   ]
  },
  {
   "cell_type": "code",
   "execution_count": 169,
   "metadata": {},
   "outputs": [],
   "source": [
    "class ZeroDLCnn(nn.Module):\n",
    "    def __init__(self, num_classes=10):\n",
    "        super(ZeroDLCnn, self).__init__()\n",
    "        self.features = nn.Sequential(\n",
    "            # kernel_size:畳み込む行列のサイズ\n",
    "            # stride:スライドするときのサイズ\n",
    "            # padding:上下左右に追加する空白\n",
    "            # 1*28*28 のデータ\n",
    "            nn.Conv2d(1, 30, kernel_size=5, stride=1, padding=0), # 1*28*28 => 30*24*24\n",
    "            nn.ReLU(inplace=True),\n",
    "            nn.MaxPool2d(kernel_size=2, stride=2), #30*24*24 => 30*12*12\n",
    "        )\n",
    "            \n",
    "        self.classifier = nn.Sequential(\n",
    "            nn.Linear(30*12*12, 30*12*12),\n",
    "            nn.ReLU(inplace=True),\n",
    "            nn.Linear(30*12*12, 10),\n",
    "            nn.Softmax()\n",
    "        )\n",
    "    \n",
    "    def forward(self, x):\n",
    "        x = self.features(x)\n",
    "        x = x.view(x.size(0), -1)\n",
    "        x = self.classifier(x)\n",
    "        return x"
   ]
  },
  {
   "cell_type": "code",
   "execution_count": 173,
   "metadata": {},
   "outputs": [],
   "source": [
    "num_epoch = 2\n",
    "history = {\n",
    "    'train_loss':[],\n",
    "    'test_loss':[],\n",
    "    'test_acc':[]\n",
    "}\n",
    "\n",
    "device = 'cuda' if torch.cuda.is_available() else 'cpu'\n",
    "net = ZeroDLCnn().to(device)\n",
    "loaders = load_MNIST()\n",
    "optimizer = torch.optim.Adam(params=net.parameters(), lr=0.001)"
   ]
  },
  {
   "cell_type": "code",
   "execution_count": 174,
   "metadata": {},
   "outputs": [
    {
     "name": "stderr",
     "output_type": "stream",
     "text": [
      "C:\\Users\\Keisuke Toyoda\\anaconda3\\lib\\site-packages\\torch\\nn\\modules\\container.py:100: UserWarning: Implicit dimension choice for softmax has been deprecated. Change the call to include dim=X as an argument.\n",
      "  input = module(input)\n"
     ]
    },
    {
     "name": "stdout",
     "output_type": "stream",
     "text": [
      "Training log: 1 epoch (128 / 60000 train. data). Loss: 2.302431106567383\n",
      "Training log: 1 epoch (1408 / 60000 train. data). Loss: 1.7706427574157715\n",
      "Training log: 1 epoch (2688 / 60000 train. data). Loss: 1.6010228395462036\n",
      "Training log: 1 epoch (3968 / 60000 train. data). Loss: 1.5828520059585571\n",
      "Training log: 1 epoch (5248 / 60000 train. data). Loss: 1.567144751548767\n",
      "Training log: 1 epoch (6528 / 60000 train. data). Loss: 1.6042959690093994\n",
      "Training log: 1 epoch (7808 / 60000 train. data). Loss: 1.6281126737594604\n",
      "Training log: 1 epoch (9088 / 60000 train. data). Loss: 1.5679365396499634\n",
      "Training log: 1 epoch (10368 / 60000 train. data). Loss: 1.5023746490478516\n",
      "Training log: 1 epoch (11648 / 60000 train. data). Loss: 1.5734895467758179\n",
      "Training log: 1 epoch (12928 / 60000 train. data). Loss: 1.536359429359436\n",
      "Training log: 1 epoch (14208 / 60000 train. data). Loss: 1.4820009469985962\n",
      "Training log: 1 epoch (15488 / 60000 train. data). Loss: 1.5568984746932983\n",
      "Training log: 1 epoch (16768 / 60000 train. data). Loss: 1.5358912944793701\n",
      "Training log: 1 epoch (18048 / 60000 train. data). Loss: 1.5149778127670288\n",
      "Training log: 1 epoch (19328 / 60000 train. data). Loss: 1.5080571174621582\n",
      "Training log: 1 epoch (20608 / 60000 train. data). Loss: 1.4978158473968506\n",
      "Training log: 1 epoch (21888 / 60000 train. data). Loss: 1.5133693218231201\n",
      "Training log: 1 epoch (23168 / 60000 train. data). Loss: 1.5269312858581543\n",
      "Training log: 1 epoch (24448 / 60000 train. data). Loss: 1.5088567733764648\n",
      "Training log: 1 epoch (25728 / 60000 train. data). Loss: 1.5039763450622559\n",
      "Training log: 1 epoch (27008 / 60000 train. data). Loss: 1.522748351097107\n",
      "Training log: 1 epoch (28288 / 60000 train. data). Loss: 1.4991002082824707\n",
      "Training log: 1 epoch (29568 / 60000 train. data). Loss: 1.5034335851669312\n",
      "Training log: 1 epoch (30848 / 60000 train. data). Loss: 1.5068440437316895\n",
      "Training log: 1 epoch (32128 / 60000 train. data). Loss: 1.4890925884246826\n",
      "Training log: 1 epoch (33408 / 60000 train. data). Loss: 1.4809722900390625\n",
      "Training log: 1 epoch (34688 / 60000 train. data). Loss: 1.516063928604126\n",
      "Training log: 1 epoch (35968 / 60000 train. data). Loss: 1.4796115159988403\n",
      "Training log: 1 epoch (37248 / 60000 train. data). Loss: 1.480301022529602\n",
      "Training log: 1 epoch (38528 / 60000 train. data). Loss: 1.4800949096679688\n",
      "Training log: 1 epoch (39808 / 60000 train. data). Loss: 1.5001013278961182\n",
      "Training log: 1 epoch (41088 / 60000 train. data). Loss: 1.4987163543701172\n",
      "Training log: 1 epoch (42368 / 60000 train. data). Loss: 1.48442804813385\n",
      "Training log: 1 epoch (43648 / 60000 train. data). Loss: 1.485678791999817\n",
      "Training log: 1 epoch (44928 / 60000 train. data). Loss: 1.5002648830413818\n",
      "Training log: 1 epoch (46208 / 60000 train. data). Loss: 1.5080912113189697\n",
      "Training log: 1 epoch (47488 / 60000 train. data). Loss: 1.496685266494751\n",
      "Training log: 1 epoch (48768 / 60000 train. data). Loss: 1.4996492862701416\n",
      "Training log: 1 epoch (50048 / 60000 train. data). Loss: 1.5020866394042969\n",
      "Training log: 1 epoch (51328 / 60000 train. data). Loss: 1.4889863729476929\n",
      "Training log: 1 epoch (52608 / 60000 train. data). Loss: 1.4842897653579712\n",
      "Training log: 1 epoch (53888 / 60000 train. data). Loss: 1.5014878511428833\n",
      "Training log: 1 epoch (55168 / 60000 train. data). Loss: 1.5150185823440552\n",
      "Training log: 1 epoch (56448 / 60000 train. data). Loss: 1.475208044052124\n",
      "Training log: 1 epoch (57728 / 60000 train. data). Loss: 1.495971918106079\n",
      "Training log: 1 epoch (59008 / 60000 train. data). Loss: 1.499383807182312\n"
     ]
    },
    {
     "ename": "TypeError",
     "evalue": "forward() got an unexpected keyword argument 'reduction'",
     "output_type": "error",
     "traceback": [
      "\u001b[1;31m---------------------------------------------------------------------------\u001b[0m",
      "\u001b[1;31mTypeError\u001b[0m                                 Traceback (most recent call last)",
      "\u001b[1;32m<ipython-input-174-798f72131748>\u001b[0m in \u001b[0;36m<module>\u001b[1;34m\u001b[0m\n\u001b[0;32m     35\u001b[0m \u001b[1;33m\u001b[0m\u001b[0m\n\u001b[0;32m     36\u001b[0m             \u001b[0moutput\u001b[0m \u001b[1;33m=\u001b[0m \u001b[0mnet\u001b[0m\u001b[1;33m(\u001b[0m\u001b[0mdata\u001b[0m\u001b[1;33m)\u001b[0m\u001b[1;33m\u001b[0m\u001b[1;33m\u001b[0m\u001b[0m\n\u001b[1;32m---> 37\u001b[1;33m             \u001b[0mtest_loss\u001b[0m \u001b[1;33m+=\u001b[0m \u001b[0mcriterion\u001b[0m\u001b[1;33m(\u001b[0m\u001b[0moutput\u001b[0m\u001b[1;33m,\u001b[0m \u001b[0mtarget\u001b[0m\u001b[1;33m,\u001b[0m \u001b[0mreduction\u001b[0m\u001b[1;33m=\u001b[0m\u001b[1;34m'sum'\u001b[0m\u001b[1;33m)\u001b[0m\u001b[1;33m.\u001b[0m\u001b[0mitem\u001b[0m\u001b[1;33m(\u001b[0m\u001b[1;33m)\u001b[0m\u001b[1;33m\u001b[0m\u001b[1;33m\u001b[0m\u001b[0m\n\u001b[0m\u001b[0;32m     38\u001b[0m             \u001b[0mpred\u001b[0m \u001b[1;33m=\u001b[0m \u001b[0moutput\u001b[0m\u001b[1;33m.\u001b[0m\u001b[0margmax\u001b[0m\u001b[1;33m(\u001b[0m\u001b[0mdim\u001b[0m\u001b[1;33m=\u001b[0m\u001b[1;36m1\u001b[0m\u001b[1;33m,\u001b[0m \u001b[0mkeepdim\u001b[0m\u001b[1;33m=\u001b[0m\u001b[1;32mTrue\u001b[0m\u001b[1;33m)\u001b[0m\u001b[1;33m\u001b[0m\u001b[1;33m\u001b[0m\u001b[0m\n\u001b[0;32m     39\u001b[0m             \u001b[0mcorrect\u001b[0m \u001b[1;33m+=\u001b[0m \u001b[0mpred\u001b[0m\u001b[1;33m.\u001b[0m\u001b[0meq\u001b[0m\u001b[1;33m(\u001b[0m\u001b[0mtarget\u001b[0m\u001b[1;33m.\u001b[0m\u001b[0mview_as\u001b[0m\u001b[1;33m(\u001b[0m\u001b[0mpred\u001b[0m\u001b[1;33m)\u001b[0m\u001b[1;33m)\u001b[0m\u001b[1;33m.\u001b[0m\u001b[0msum\u001b[0m\u001b[1;33m(\u001b[0m\u001b[1;33m)\u001b[0m\u001b[1;33m.\u001b[0m\u001b[0mitem\u001b[0m\u001b[1;33m(\u001b[0m\u001b[1;33m)\u001b[0m\u001b[1;33m\u001b[0m\u001b[1;33m\u001b[0m\u001b[0m\n",
      "\u001b[1;32m~\\anaconda3\\lib\\site-packages\\torch\\nn\\modules\\module.py\u001b[0m in \u001b[0;36m__call__\u001b[1;34m(self, *input, **kwargs)\u001b[0m\n\u001b[0;32m    548\u001b[0m             \u001b[0mresult\u001b[0m \u001b[1;33m=\u001b[0m \u001b[0mself\u001b[0m\u001b[1;33m.\u001b[0m\u001b[0m_slow_forward\u001b[0m\u001b[1;33m(\u001b[0m\u001b[1;33m*\u001b[0m\u001b[0minput\u001b[0m\u001b[1;33m,\u001b[0m \u001b[1;33m**\u001b[0m\u001b[0mkwargs\u001b[0m\u001b[1;33m)\u001b[0m\u001b[1;33m\u001b[0m\u001b[1;33m\u001b[0m\u001b[0m\n\u001b[0;32m    549\u001b[0m         \u001b[1;32melse\u001b[0m\u001b[1;33m:\u001b[0m\u001b[1;33m\u001b[0m\u001b[1;33m\u001b[0m\u001b[0m\n\u001b[1;32m--> 550\u001b[1;33m             \u001b[0mresult\u001b[0m \u001b[1;33m=\u001b[0m \u001b[0mself\u001b[0m\u001b[1;33m.\u001b[0m\u001b[0mforward\u001b[0m\u001b[1;33m(\u001b[0m\u001b[1;33m*\u001b[0m\u001b[0minput\u001b[0m\u001b[1;33m,\u001b[0m \u001b[1;33m**\u001b[0m\u001b[0mkwargs\u001b[0m\u001b[1;33m)\u001b[0m\u001b[1;33m\u001b[0m\u001b[1;33m\u001b[0m\u001b[0m\n\u001b[0m\u001b[0;32m    551\u001b[0m         \u001b[1;32mfor\u001b[0m \u001b[0mhook\u001b[0m \u001b[1;32min\u001b[0m \u001b[0mself\u001b[0m\u001b[1;33m.\u001b[0m\u001b[0m_forward_hooks\u001b[0m\u001b[1;33m.\u001b[0m\u001b[0mvalues\u001b[0m\u001b[1;33m(\u001b[0m\u001b[1;33m)\u001b[0m\u001b[1;33m:\u001b[0m\u001b[1;33m\u001b[0m\u001b[1;33m\u001b[0m\u001b[0m\n\u001b[0;32m    552\u001b[0m             \u001b[0mhook_result\u001b[0m \u001b[1;33m=\u001b[0m \u001b[0mhook\u001b[0m\u001b[1;33m(\u001b[0m\u001b[0mself\u001b[0m\u001b[1;33m,\u001b[0m \u001b[0minput\u001b[0m\u001b[1;33m,\u001b[0m \u001b[0mresult\u001b[0m\u001b[1;33m)\u001b[0m\u001b[1;33m\u001b[0m\u001b[1;33m\u001b[0m\u001b[0m\n",
      "\u001b[1;31mTypeError\u001b[0m: forward() got an unexpected keyword argument 'reduction'"
     ]
    }
   ],
   "source": [
    "for i_epoch in range(num_epoch):\n",
    "    loss = None\n",
    "    \n",
    "    net.train(True)\n",
    "    \n",
    "    criterion = nn.CrossEntropyLoss()\n",
    "    \n",
    "    for i, (data, target) in enumerate(loaders['train']):\n",
    "        data = data.to(device)\n",
    "        target = target.to(device)\n",
    "        \n",
    "        optimizer.zero_grad()\n",
    "        output = net(data)\n",
    "        \n",
    "#         print(output.shape)\n",
    "        \n",
    "#         loss = f.nll_loss(output, target)\n",
    "        loss = criterion(output, target)\n",
    "        loss.backward()\n",
    "        optimizer.step()\n",
    "        \n",
    "        if i % 10 == 0:\n",
    "            print('Training log: {} epoch ({} / 60000 train. data). Loss: {}'.format(i_epoch+1, (i+1)*128, loss.item()))\n",
    "    \n",
    "    history['train_loss'].append(loss)\n",
    "    \n",
    "    net.eval()\n",
    "    test_loss = 0\n",
    "    correct = 0\n",
    "    \n",
    "    with torch.no_grad():\n",
    "        for data, target in loaders['test']:\n",
    "            data = data.to(device)\n",
    "            target = target.to(device)\n",
    "            \n",
    "            output = net(data)\n",
    "            test_loss += f.nll_loss(output, target, reduction='sum').item()\n",
    "            pred = output.argmax(dim=1, keepdim=True)\n",
    "            correct += pred.eq(target.view_as(pred)).sum().item()\n",
    "    \n",
    "    test_loss /= 10000\n",
    "    print('Test loss (avg): {}, Accuracy: {}'.format(test_loss, correct / 10000))\n",
    "    \n",
    "    history['test_loss'].append(test_loss)\n",
    "    history['test_acc'].append(correct / 10000)"
   ]
  },
  {
   "cell_type": "code",
   "execution_count": 172,
   "metadata": {},
   "outputs": [
    {
     "name": "stdout",
     "output_type": "stream",
     "text": [
      "{'train_loss': [tensor(1.4809, device='cuda:0', grad_fn=<NllLossBackward>), tensor(1.4831, device='cuda:0', grad_fn=<NllLossBackward>), tensor(1.4969, device='cuda:0', grad_fn=<NllLossBackward>), tensor(1.4692, device='cuda:0', grad_fn=<NllLossBackward>), tensor(1.4770, device='cuda:0', grad_fn=<NllLossBackward>), tensor(1.4619, device='cuda:0', grad_fn=<NllLossBackward>), tensor(1.4734, device='cuda:0', grad_fn=<NllLossBackward>), tensor(1.4612, device='cuda:0', grad_fn=<NllLossBackward>), tensor(1.4612, device='cuda:0', grad_fn=<NllLossBackward>), tensor(1.4612, device='cuda:0', grad_fn=<NllLossBackward>)], 'test_loss': [-0.9723451945304871, -0.9801469521522522, -0.9788562504768371, -0.9855722445487977, -0.9858137870788575, -0.9864324729919434, -0.985899491405487, -0.9866091459274292, -0.9861304107666016, -0.9891011810302734], 'test_acc': [0.9742, 0.9815, 0.9796, 0.9861, 0.9865, 0.9869, 0.986, 0.9871, 0.9867, 0.9892]}\n"
     ]
    },
    {
     "data": {
      "image/png": "[encoded data removed]",
      "text/plain": [
       "<Figure size 432x288 with 1 Axes>"
      ]
     },
     "metadata": {
      "needs_background": "light"
     },
     "output_type": "display_data"
    },
    {
     "data": {
      "image/png": "[encoded data removed]",
      "text/plain": [
       "<Figure size 432x288 with 1 Axes>"
      ]
     },
     "metadata": {
      "needs_background": "light"
     },
     "output_type": "display_data"
    }
   ],
   "source": [
    "num_epoch\n",
    "print(history)\n",
    "plt.figure()\n",
    "plt.plot(range(len(history['train_loss'])), history['train_loss'], label='train_loss')\n",
    "plt.plot(range(len(history['test_loss'])), history['test_loss'], label='test_loss')\n",
    "plt.xlabel('epoch')\n",
    "plt.legend()\n",
    "plt.savefig('cnnloss.png')\n",
    "\n",
    "plt.figure()\n",
    "plt.plot(range(len(history['test_acc'])), history['test_acc'])\n",
    "plt.title('test accuracy')\n",
    "plt.xlabel('epoch')\n",
    "plt.savefig('cnn_test_acc2.png')"
   ]
  },
  {
   "cell_type": "code",
   "execution_count": null,
   "metadata": {},
   "outputs": [],
   "source": []
  }
 ],
 "metadata": {
  "kernelspec": {
   "display_name": "Python 3",
   "language": "python",
   "name": "python3"
  },
  "language_info": {
   "codemirror_mode": {
    "name": "ipython",
    "version": 3
   },
   "file_extension": ".py",
   "mimetype": "text/x-python",
   "name": "python",
   "nbconvert_exporter": "python",
   "pygments_lexer": "ipython3",
   "version": "3.7.6"
  }
 },
 "nbformat": 4,
 "nbformat_minor": 4
}
